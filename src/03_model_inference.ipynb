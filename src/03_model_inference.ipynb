{
 "cells": [
  {
   "cell_type": "code",
   "execution_count": 2,
   "metadata": {},
   "outputs": [],
   "source": [
    "import pandas as pd\n",
    "import joblib\n",
    "from lightgbm import LGBMClassifier\n",
    "\n",
    "model = joblib.load('models/lgbm_model.pkl')\n",
    "\n",
    "scaler = joblib.load('models/scaler.pkl')\n",
    "encoder = joblib.load('models/encoder.pkl')"
   ]
  },
  {
   "cell_type": "code",
   "execution_count": 3,
   "metadata": {},
   "outputs": [],
   "source": [
    "new_customer = {\n",
    "    'gender': 'Female',\n",
    "    'SeniorCitizen': 0,\n",
    "    'Partner': 'Yes',\n",
    "    'Dependents': 'No',\n",
    "    'tenure': 5,\n",
    "    'PhoneService': 'Yes',\n",
    "    'MultipleLines': 'No',\n",
    "    'InternetService': 'Fiber optic',\n",
    "    'OnlineSecurity': 'No',\n",
    "    'OnlineBackup': 'Yes',\n",
    "    'DeviceProtection': 'No',\n",
    "    'TechSupport': 'No',\n",
    "    'StreamingTV': 'Yes',\n",
    "    'StreamingMovies': 'No',\n",
    "    'Contract': 'Month-to-month',\n",
    "    'PaperlessBilling': 'Yes',\n",
    "    'PaymentMethod': 'Electronic check',\n",
    "    'MonthlyCharges': 75.35,\n",
    "    'TotalCharges': 375.75\n",
    "}\n",
    "\n",
    "df_new = pd.DataFrame([new_customer])"
   ]
  },
  {
   "cell_type": "code",
   "execution_count": 4,
   "metadata": {},
   "outputs": [],
   "source": [
    "def preprocess_new_data(df, scaler, encoder):\n",
    "    df['TotalCharges'] = pd.to_numeric(df['TotalCharges'], errors='coerce').fillna(0)\n",
    "    df['gender'] = df['gender'].map({'Male': 1, 'Female': 0})\n",
    "    \n",
    "    binary_cols = ['Partner', 'Dependents', 'PhoneService', 'PaperlessBilling']\n",
    "    for col in binary_cols:\n",
    "        df[col] = df[col].map({'Yes': 1, 'No': 0})\n",
    "    \n",
    "    multi_cols = ['MultipleLines', 'InternetService', 'OnlineSecurity', \n",
    "                  'OnlineBackup', 'DeviceProtection', 'TechSupport',\n",
    "                  'StreamingTV', 'StreamingMovies', 'Contract', 'PaymentMethod']\n",
    "\n",
    "    encoded_multi = encoder.transform(df[multi_cols])\n",
    "    encoded_cols = encoder.get_feature_names_out(multi_cols)\n",
    "    encoded_df = pd.DataFrame(encoded_multi, columns=encoded_cols, index=df.index)\n",
    "\n",
    "    df = df.drop(multi_cols, axis=1)\n",
    "    df = pd.concat([df, encoded_df], axis=1)\n",
    "    \n",
    "    num_cols = ['tenure', 'MonthlyCharges', 'TotalCharges']\n",
    "    df[num_cols] = scaler.transform(df[num_cols])\n",
    "\n",
    "    return df"
   ]
  },
  {
   "cell_type": "code",
   "execution_count": 7,
   "metadata": {},
   "outputs": [
    {
     "name": "stdout",
     "output_type": "stream",
     "text": [
      "Churn Probability: 44.84%\n",
      "Customer likely to stay.\n"
     ]
    }
   ],
   "source": [
    "df_processed = preprocess_new_data(df_new, scaler, encoder)\n",
    "churn_prob = model.predict_proba(df_processed)[:, 1][0]\n",
    "\n",
    "print(f\"Churn Probability: {churn_prob * 100:.2f}%\")\n",
    "if churn_prob > 0.5:\n",
    "    print(\"High Risk of Churn!\")\n",
    "else:\n",
    "    print(\"Customer likely to stay.\")"
   ]
  }
 ],
 "metadata": {
  "kernelspec": {
   "display_name": "Python 3",
   "language": "python",
   "name": "python3"
  },
  "language_info": {
   "codemirror_mode": {
    "name": "ipython",
    "version": 3
   },
   "file_extension": ".py",
   "mimetype": "text/x-python",
   "name": "python",
   "nbconvert_exporter": "python",
   "pygments_lexer": "ipython3",
   "version": "3.11.4"
  }
 },
 "nbformat": 4,
 "nbformat_minor": 2
}
